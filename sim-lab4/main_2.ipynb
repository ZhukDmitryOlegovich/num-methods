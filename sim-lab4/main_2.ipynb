{
 "cells": [
  {
   "cell_type": "code",
   "execution_count": 24,
   "metadata": {},
   "outputs": [],
   "source": [
    "import pandas as pd\n",
    "from sklearn.linear_model import LinearRegression\n",
    "from sklearn.preprocessing import StandardScaler\n",
    "from sklearn.model_selection import train_test_split\n",
    "from sklearn.metrics import mean_squared_error"
   ]
  },
  {
   "cell_type": "code",
   "execution_count": 25,
   "metadata": {},
   "outputs": [],
   "source": [
    "first = pd.read_csv('document.txt', sep=r'\\s+')\n",
    "first = first.drop('ind', axis=1)\n",
    "# first = first[first['product']>0]\n",
    "second = pd.read_csv('1.txt', sep=r'\\s+')\n",
    "second = second.drop('ind', axis=1)\n",
    "third = pd.read_csv('2.txt', sep=r'\\s+')\n",
    "third = third.drop('ind', axis=1)"
   ]
  },
  {
   "cell_type": "code",
   "execution_count": 26,
   "metadata": {},
   "outputs": [],
   "source": [
    "#Небольшая процедура для предварительного анализа данных\n",
    "def define_dataset(df):\n",
    "      print(df.shape)\n",
    "      print(df.info())\n",
    "      print(df.head(40))\n",
    "      print(df.describe())\n",
    "      return df['id'].value_counts().head(20)\n",
    "\n",
    "features_1 = first.drop(['id','product'], axis=1)\n",
    "features_ohe_1 = pd.get_dummies(features_1, drop_first=True)\n",
    "target_1 = first['product']\n",
    "\n",
    "features_2 = second.drop(['id','product'], axis=1)\n",
    "features_ohe_2 = pd.get_dummies(features_2, drop_first=True)\n",
    "target_2 = second['product']\n",
    "\n",
    "features_3 = third.drop(['id','product'], axis=1)\n",
    "features_ohe_3 = pd.get_dummies(features_3, drop_first=True)\n",
    "target_3 = third['product']\n",
    "\n",
    "#Разбиваем данные на обучающую и валидационную выборки в соотношении 75:25.\n",
    "features_train_1, features_valid_1, target_train_1, target_valid_1 = train_test_split(features_ohe_1, target_1, test_size=0.25, random_state=12345)\n",
    "features_train_2, features_valid_2, target_train_2, target_valid_2 = train_test_split(features_ohe_2, target_2, test_size=0.25, random_state=12345)\n",
    "features_train_3, features_valid_3, target_train_3, target_valid_3 = train_test_split(features_ohe_3, target_3, test_size=0.25, random_state=12345)\n",
    "model = LinearRegression() #Применяем модель линейной регрессии\n",
    "\n",
    "#Признаки кодируем во избежание доминирования одного из них\n",
    "numeric = ['f0','f1','f2']\n",
    "scaler = StandardScaler()\n",
    "def scale(features_train, features_valid, numeric):\n",
    "      scaler.fit(features_train_1[numeric])\n",
    "      features_train[numeric] = scaler.transform(features_train[numeric])\n",
    "      features_valid[numeric] = scaler.transform(features_valid[numeric])\n",
    "      return\n",
    "\n",
    "#Обучаем модель и проводим предсказания на первой валидационной выборке.\n",
    "def study(features_train, features_valid, target_train, target_valid, number_location):\n",
    "      model.fit(features_train,target_train) # обучите модель на первой тренировочной выборке\n",
    "      predictions_valid = model.predict(features_valid) # получите  предсказания модели на первой валидационной выборке\n",
    "      #Выводим на печать средний запас предсказанного сырья и RMSE модели для первой локации.\n",
    "      mse = mean_squared_error(target_valid, predictions_valid)\n",
    "\n",
    "      # < извлекаем корень из MSE >\n",
    "      result =  mse ** 0.5\n",
    "      print(\"Средний запас предсказанного на валидационной выборке\", number_location, \"сырья:\", predictions_valid.mean(), '(тыс. баррелей)')\n",
    "      print(\"RMSE модели линейной регрессии на валидационной выборке\", number_location, \":\", result)\n",
    "      return predictions_valid"
   ]
  },
  {
   "cell_type": "code",
   "execution_count": 27,
   "metadata": {},
   "outputs": [],
   "source": [
    "scale(features_train_1, features_valid_1, numeric)\n",
    "scale(features_train_2, features_valid_2, numeric)\n",
    "scale(features_train_3, features_valid_3, numeric)"
   ]
  },
  {
   "cell_type": "code",
   "execution_count": 28,
   "metadata": {},
   "outputs": [
    {
     "name": "stdout",
     "output_type": "stream",
     "text": [
      "Средний запас предсказанного на валидационной выборке 1 сырья: 101.57898111447824 (тыс. баррелей)\n",
      "RMSE модели линейной регрессии на валидационной выборке 1 : 1.1414291393555036\n"
     ]
    },
    {
     "data": {
      "text/plain": [
       "array([135.66029436,  83.40132081, 135.85984776, 136.15562042,\n",
       "        83.1414788 ,  55.74472549, 138.9568881 , 107.85486195,\n",
       "         3.90662616, 135.10814729])"
      ]
     },
     "execution_count": 28,
     "metadata": {},
     "output_type": "execute_result"
    }
   ],
   "source": [
    "study(features_train_1, features_valid_1, target_train_1, target_valid_1, 1)"
   ]
  },
  {
   "cell_type": "code",
   "execution_count": 29,
   "metadata": {},
   "outputs": [
    {
     "name": "stdout",
     "output_type": "stream",
     "text": [
      "Средний запас предсказанного на валидационной выборке 2 сырья: 79.60799856167405 (тыс. баррелей)\n",
      "RMSE модели линейной регрессии на валидационной выборке 2 : 39.35239879630726\n"
     ]
    },
    {
     "data": {
      "text/plain": [
       "array([86.25531811, 94.42212813, 54.78362276, 78.82098344, 83.11798094,\n",
       "       69.22219427, 85.62882546, 76.97265683, 69.07739358, 97.7788821 ])"
      ]
     },
     "execution_count": 29,
     "metadata": {},
     "output_type": "execute_result"
    }
   ],
   "source": [
    "study(features_train_2, features_valid_2, target_train_2, target_valid_2, 2)"
   ]
  },
  {
   "cell_type": "code",
   "execution_count": 30,
   "metadata": {},
   "outputs": [
    {
     "name": "stdout",
     "output_type": "stream",
     "text": [
      "Средний запас предсказанного на валидационной выборке 3 сырья: 99.64955863171336 (тыс. баррелей)\n",
      "RMSE модели линейной регрессии на валидационной выборке 3 : 45.50537343061165\n"
     ]
    },
    {
     "data": {
      "text/plain": [
       "array([121.36420993,  88.19996895,  90.82085875, 109.21275929,\n",
       "        83.80523339, 105.59403231, 108.2624712 , 103.85781818,\n",
       "        93.75486443,  91.62336988])"
      ]
     },
     "execution_count": 30,
     "metadata": {},
     "output_type": "execute_result"
    }
   ],
   "source": [
    "study(features_train_3, features_valid_3, target_train_3, target_valid_3, 3)"
   ]
  }
 ],
 "metadata": {
  "kernelspec": {
   "display_name": "Python 3",
   "language": "python",
   "name": "python3"
  },
  "language_info": {
   "codemirror_mode": {
    "name": "ipython",
    "version": 3
   },
   "file_extension": ".py",
   "mimetype": "text/x-python",
   "name": "python",
   "nbconvert_exporter": "python",
   "pygments_lexer": "ipython3",
   "version": "3.8.10"
  },
  "orig_nbformat": 4
 },
 "nbformat": 4,
 "nbformat_minor": 2
}
