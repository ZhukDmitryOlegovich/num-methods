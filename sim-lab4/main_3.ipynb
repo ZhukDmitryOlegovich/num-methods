{
 "cells": [
  {
   "cell_type": "code",
   "execution_count": 1,
   "metadata": {},
   "outputs": [],
   "source": [
    "import pandas as pd\n",
    "from sklearn.linear_model import LinearRegression\n",
    "from sklearn.preprocessing import StandardScaler\n",
    "from sklearn.model_selection import train_test_split\n",
    "from sklearn.metrics import mean_squared_error\n",
    "import sklearn.pipeline as pipe"
   ]
  },
  {
   "cell_type": "code",
   "execution_count": 2,
   "metadata": {},
   "outputs": [],
   "source": [
    "first = pd.read_csv('loc1.txt', sep=r'\\s+')\n",
    "first = first.drop('ind', axis=1)\n",
    "second = pd.read_csv('loc2.txt', sep=r'\\s+')\n",
    "second = second.drop('ind', axis=1)\n",
    "third = pd.read_csv('loc3.txt', sep=r'\\s+')\n",
    "third = third.drop('ind', axis=1)"
   ]
  },
  {
   "cell_type": "code",
   "execution_count": 3,
   "metadata": {},
   "outputs": [],
   "source": [
    "#Небольшая процедура для предварительного анализа данных\n",
    "def define_dataset(df):\n",
    "      print(df.shape)\n",
    "      print(df.info())\n",
    "      print(df.head(40))\n",
    "      print(df.describe())\n",
    "      return df['id'].value_counts().head(20) #определение  индексов-дубликатов Функция get_dummies\n",
    "#Формируем наборы признаков и вектор целевого признака для всех трех  локаций, одинакого исключая из списка признаков\n",
    "#идентификатор (индекс) месторождения - он никак не может влиять на объем добытой нефти\n",
    "\n",
    "features_1 = first.drop(['id','product'], axis=1)\n",
    "features_ohe_1 = pd.get_dummies(features_1, drop_first=True)\n",
    "target_1 = first['product']\n",
    "\n",
    "features_2 = second.drop(['id','product'], axis=1)\n",
    "features_ohe_2 = pd.get_dummies(features_2, drop_first=True)\n",
    "target_2 = second['product']\n",
    "\n",
    "features_3 = third.drop(['id','product'], axis=1)\n",
    "features_ohe_3 = pd.get_dummies(features_3, drop_first=True)\n",
    "target_3 = third['product']\n",
    "\n",
    "#Разбиваем данные на обучающую и валидационную выборки в соотношении 75:25.\n",
    "features_train_1, features_valid_1, target_train_1, target_valid_1 = train_test_split(features_ohe_1, target_1, test_size=0.25, random_state=12345)\n",
    "features_train_2, features_valid_2, target_train_2, target_valid_2 = train_test_split(features_ohe_2, target_2, test_size=0.25, random_state=12345)\n",
    "features_train_3, features_valid_3, target_train_3, target_valid_3 = train_test_split(features_ohe_3, target_3, test_size=0.25, random_state=12345)\n",
    "model_1 = LinearRegression() #Применяем модель линейной регрессии\n",
    "model_2 = LinearRegression()\n",
    "model_3 = LinearRegression()\n",
    "\n",
    "#Признаки кодируем во избежание доминирования одного из них\n",
    "numeric = ['f0','f1','f2']\n",
    "def scale(features_train, features_valid = None, numeric=['f0','f1','f2']):\n",
    "      scaler = StandardScaler()\n",
    "      scaler.fit(features_train_1[numeric])\n",
    "      features_train[numeric] = scaler.transform(features_train[numeric])\n",
    "      if features_valid is not None:\n",
    "            features_valid[numeric] = scaler.transform(features_valid[numeric])\n",
    "      return\n",
    "\n",
    "#Обучаем модель и проводим предсказания на первой валидационной выборке.\n",
    "def study(model: LinearRegression, features_train, features_valid, target_train, target_valid, number_location):\n",
    "      model.fit(features_train,target_train) # обучите модель на первой тренировочной выборке\n",
    "      predictions_valid = model.predict(features_valid) # получите  предсказания модели на первой валидационной выборке\n",
    "      #Выводим на печать средний запас предсказанного сырья и RMSE модели для первой локации.\n",
    "      mse = mean_squared_error(target_valid, predictions_valid)\n",
    "\n",
    "      # < извлекаем корень из MSE >\n",
    "      result =  mse ** 0.5\n",
    "      print(\"Средний запас предсказанного на валидационной выборке\", number_location, \"сырья:\", predictions_valid.mean(), '(тыс. баррелей)')\n",
    "      print(\"RMSE модели линейной регрессии на валидационной выборке\", number_location, \":\", result)\n",
    "      return predictions_valid"
   ]
  },
  {
   "cell_type": "code",
   "execution_count": 4,
   "metadata": {},
   "outputs": [
    {
     "name": "stdout",
     "output_type": "stream",
     "text": [
      "Средний запас предсказанного на валидационной выборке 1 сырья: 101.57898111447821 (тыс. баррелей)\n",
      "RMSE модели линейной регрессии на валидационной выборке 1 : 1.1414291393555058\n"
     ]
    },
    {
     "data": {
      "text/plain": [
       "array([135.66029436,  83.40132081, 135.85984776, 136.15562042,\n",
       "        83.1414788 ,  55.74472549, 138.9568881 , 107.85486195,\n",
       "         3.90662616, 135.10814729])"
      ]
     },
     "execution_count": 4,
     "metadata": {},
     "output_type": "execute_result"
    }
   ],
   "source": [
    "model_1 = pipe.Pipeline([\n",
    "    ('scaler', StandardScaler()),\n",
    "    ('model', LinearRegression())\n",
    "])\n",
    "study(model_1, features_train_1, features_valid_1, target_train_1, target_valid_1, 1)"
   ]
  },
  {
   "cell_type": "code",
   "execution_count": 5,
   "metadata": {},
   "outputs": [
    {
     "name": "stdout",
     "output_type": "stream",
     "text": [
      "Средний запас предсказанного на валидационной выборке 2 сырья: 79.60799856167405 (тыс. баррелей)\n",
      "RMSE модели линейной регрессии на валидационной выборке 2 : 39.352398796307256\n"
     ]
    },
    {
     "data": {
      "text/plain": [
       "array([86.25531811, 94.42212813, 54.78362276, 78.82098344, 83.11798094,\n",
       "       69.22219427, 85.62882546, 76.97265683, 69.07739358, 97.7788821 ])"
      ]
     },
     "execution_count": 5,
     "metadata": {},
     "output_type": "execute_result"
    }
   ],
   "source": [
    "model_2 = pipe.Pipeline([\n",
    "    ('scaler', StandardScaler()),\n",
    "    ('model', LinearRegression())\n",
    "])\n",
    "study(model_2, features_train_2, features_valid_2, target_train_2, target_valid_2, 2)"
   ]
  },
  {
   "cell_type": "code",
   "execution_count": 6,
   "metadata": {},
   "outputs": [
    {
     "name": "stdout",
     "output_type": "stream",
     "text": [
      "Средний запас предсказанного на валидационной выборке 3 сырья: 99.64955863171336 (тыс. баррелей)\n",
      "RMSE модели линейной регрессии на валидационной выборке 3 : 45.50537343061165\n"
     ]
    },
    {
     "data": {
      "text/plain": [
       "array([121.36420993,  88.19996895,  90.82085875, 109.21275929,\n",
       "        83.80523339, 105.59403231, 108.2624712 , 103.85781818,\n",
       "        93.75486443,  91.62336988])"
      ]
     },
     "execution_count": 6,
     "metadata": {},
     "output_type": "execute_result"
    }
   ],
   "source": [
    "model_3 = pipe.Pipeline([\n",
    "    ('scaler', StandardScaler()),\n",
    "    ('model', LinearRegression())\n",
    "])\n",
    "study(model_3, features_train_3, features_valid_3, target_train_3, target_valid_3, 3)"
   ]
  },
  {
   "cell_type": "code",
   "execution_count": 7,
   "metadata": {},
   "outputs": [],
   "source": [
    "r1 = pd.read_csv('place1.csv', sep=',')\n",
    "r2 = pd.read_csv('place2.csv', sep=',')\n",
    "r3 = pd.read_csv('place3.csv', sep=',')"
   ]
  },
  {
   "cell_type": "code",
   "execution_count": 8,
   "metadata": {},
   "outputs": [
    {
     "name": "stdout",
     "output_type": "stream",
     "text": [
      "Минимальная средняя продуктивность скважины для достижения порога окупаемости: 69.4 (тыс. баррелей)\n"
     ]
    }
   ],
   "source": [
    "COSTS = 500_000 #бюджет на разработку\n",
    "INCOME = 450 #доход с одного бареля нефти\n",
    "COUNT_REGION = 30 #количество исследуемых точек в одном регионе\n",
    "BOREHOLES = 16 #количество выбранных скважин для разработки  месторождения\n",
    "loss_threshold = COSTS/(BOREHOLES*INCOME) #Минимальная средняя продуктивность скважины для достижения порога окупаемости\n",
    "region_threshold = round(BOREHOLES*loss_threshold,1) #Минимальная продуктивность 200 скважин региона для достижения порога окупаемости\n",
    "print('Минимальная средняя продуктивность скважины для достижения порога окупаемости:', round(loss_threshold,1), '(тыс. баррелей)')"
   ]
  },
  {
   "cell_type": "code",
   "execution_count": 9,
   "metadata": {},
   "outputs": [],
   "source": [
    "def calc_profit(data: pd.DataFrame, model: LinearRegression):\n",
    "  d = data.copy()\n",
    "  # d.sample()\n",
    "  d_product = model.predict(d[numeric])\n",
    "  # print(d_product)\n",
    "  d['product'] = d_product\n",
    "  d.sort_values(by='product', inplace=True)\n",
    "  top_d = d.tail(BOREHOLES)\n",
    "  # print(top_d)\n",
    "  return top_d['product'].sum() * INCOME - COSTS\n",
    "  "
   ]
  },
  {
   "cell_type": "code",
   "execution_count": 10,
   "metadata": {},
   "outputs": [
    {
     "name": "stdout",
     "output_type": "stream",
     "text": [
      "Прибыль в первой локации: 663327.0 тыс рублей\n",
      "Прибыль в первой локации: 318284.0 тыс рублей\n",
      "Прибыль в первой локации: 442428.0 тыс рублей\n"
     ]
    }
   ],
   "source": [
    "print(\"Прибыль в первой локации:\", calc_profit(r1, model_1).round(),'тыс рублей')\n",
    "print(\"Прибыль в первой локации:\", calc_profit(r2, model_2).round(),'тыс рублей')\n",
    "print(\"Прибыль в первой локации:\", calc_profit(r3, model_3).round(),'тыс рублей')"
   ]
  },
  {
   "cell_type": "code",
   "execution_count": 11,
   "metadata": {},
   "outputs": [],
   "source": [
    "import numpy as np"
   ]
  },
  {
   "cell_type": "code",
   "execution_count": 12,
   "metadata": {},
   "outputs": [],
   "source": [
    "state = np.random.RandomState(12345) #обеспечим случайность формируемых выборок"
   ]
  },
  {
   "cell_type": "code",
   "execution_count": 13,
   "metadata": {},
   "outputs": [],
   "source": [
    "def bootstrapped(data: pd.DataFrame, model: LinearRegression):\n",
    "  values = []\n",
    "  d = data.copy()\n",
    "  for _ in range(1000):\n",
    "    profit = calc_profit(d.sample(COUNT_REGION, replace=False, random_state=state), model)\n",
    "    values.append(profit.round())\n",
    "  \n",
    "  values = pd.Series(values)\n",
    "  mean = values.mean() #расчет средней прибыли\n",
    "  print('Средняя прибыль, тыс руб.: {:,.2f}'.format(mean))\n",
    "\n",
    "  lower = values.quantile(.025) #строим доверительный интервал\n",
    "  upper = values.quantile(.975)\n",
    "\n",
    "  print('95% доверительный интервал:', '{:,.2f}'.format(lower), ':', '{:,.2f}'.format(upper))"
   ]
  },
  {
   "cell_type": "code",
   "execution_count": 17,
   "metadata": {},
   "outputs": [
    {
     "name": "stdout",
     "output_type": "stream",
     "text": [
      "Средняя прибыль, тыс руб.: 511,942.53\n",
      "95% доверительный интервал: 375,761.05 : 629,147.95\n"
     ]
    }
   ],
   "source": [
    "bootstrapped(r1, model_1)"
   ]
  },
  {
   "cell_type": "code",
   "execution_count": 15,
   "metadata": {},
   "outputs": [
    {
     "name": "stdout",
     "output_type": "stream",
     "text": [
      "Средняя прибыль, тыс руб.: 263,213.98\n",
      "95% доверительный интервал: 211,803.25 : 307,432.00\n"
     ]
    }
   ],
   "source": [
    "bootstrapped(r2, model_2)"
   ]
  },
  {
   "cell_type": "code",
   "execution_count": 16,
   "metadata": {},
   "outputs": [
    {
     "name": "stdout",
     "output_type": "stream",
     "text": [
      "Средняя прибыль, тыс руб.: 405,355.43\n",
      "95% доверительный интервал: 367,463.42 : 435,708.30\n"
     ]
    }
   ],
   "source": [
    "bootstrapped(r3, model_3)"
   ]
  }
 ],
 "metadata": {
  "kernelspec": {
   "display_name": "Python 3",
   "language": "python",
   "name": "python3"
  },
  "language_info": {
   "codemirror_mode": {
    "name": "ipython",
    "version": 3
   },
   "file_extension": ".py",
   "mimetype": "text/x-python",
   "name": "python",
   "nbconvert_exporter": "python",
   "pygments_lexer": "ipython3",
   "version": "3.8.10"
  },
  "orig_nbformat": 4
 },
 "nbformat": 4,
 "nbformat_minor": 2
}
